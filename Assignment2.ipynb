{
 "cells": [
  {
   "cell_type": "markdown",
   "metadata": {},
   "source": [
    "# Assignmnet 2 -kNN\n",
    "\n",
    "- Sameer Valiah Pusunuru (1001552473)"
   ]
  },
  {
   "cell_type": "code",
   "execution_count": 25,
   "metadata": {},
   "outputs": [],
   "source": [
    "import pandas as pd\n",
    "import numpy as np\n",
    "import math\n",
    "#Taking IRIS datset and storing in data fram\n",
    "col=['sepal_len','sepal_width','petal_len','petal_width','type']\n",
    "df=pd.read_csv(\"http://archive.ics.uci.edu/ml/machine-learning-databases/iris/iris.data\",names=col)\n"
   ]
  },
  {
   "cell_type": "markdown",
   "metadata": {},
   "source": [
    "Creating Dev Set and Test set, 100 dev data rows and 50 test row"
   ]
  },
  {
   "cell_type": "code",
   "execution_count": 26,
   "metadata": {},
   "outputs": [],
   "source": [
    "shuffled = df.sample(frac=1)\n",
    "result = np.array_split(shuffled, 3)\n",
    "x =result[0]\n",
    "x1= result[1]\n",
    "test =result[2]\n",
    "dev = np.concatenate((x, x1), axis=0)\n",
    "test = np.array(test)\n"
   ]
  },
  {
   "cell_type": "markdown",
   "metadata": {},
   "source": [
    "Functions to find euclidean, consine and normalized euclidean distances"
   ]
  },
  {
   "cell_type": "code",
   "execution_count": 27,
   "metadata": {},
   "outputs": [],
   "source": [
    "import math\n",
    "import statistics as st\n",
    "def euclidean(tar,dat):\n",
    "    stry =0.0\n",
    "    for i in range (0,4):\n",
    "        stry =stry+pow((tar[i]-dat[i]),2) \n",
    "    return math.sqrt(stry)\n",
    "\n",
    "\n",
    "\n",
    "def cosine_similarity(tar,dat):\n",
    "    sumxx, sumxy, sumyy = 0, 0, 0\n",
    "    for i in range(0,4):\n",
    "        x = tar[i]; y = dat[i]\n",
    "        sumxx += x*x\n",
    "        sumyy += y*y\n",
    "        sumxy += x*y\n",
    "    #print(sumxy/math.sqrt(sumxx*sumyy))\n",
    "    return sumxy/math.sqrt(sumxx*sumyy)\n",
    "\n",
    "def normeuclidean(tar,dat):\n",
    "    a=[]\n",
    "    b=[]\n",
    "    for i in range (0,4):\n",
    "        a.append(tar[i])\n",
    "        b.append(dat[i])\n",
    "    c=[]\n",
    "    for i in range (0,len(a)):\n",
    "        c.append(a[i]-b[i])\n",
    "         \n",
    "    return 0.5*(pow(st.stdev(c),2)) / ((pow(st.stdev(a),2))+(pow(st.stdev(b),2)))"
   ]
  },
  {
   "cell_type": "markdown",
   "metadata": {},
   "source": [
    "function to find accuracy on a given data set using euclidean distance "
   ]
  },
  {
   "cell_type": "code",
   "execution_count": 28,
   "metadata": {},
   "outputs": [],
   "source": [
    "def equi(k,dataset):\n",
    "\n",
    "    srt = [[0 for x in range(len(dataset))] for y in range(len(dataset))] \n",
    "    hyper =k\n",
    "    fin =0\n",
    "    for j in range (0,len(dataset)):\n",
    "        mydct={}\n",
    "        x={}\n",
    "        for i in range (0,len(dataset)):\n",
    "            mydct[(euclidean(dev[j],dev[i]))] = dev[i][4]\n",
    "        count=0;\n",
    "    #print(dev[j][4])\n",
    "        mydct\n",
    "        for i in sorted (mydct) : \n",
    "            if(count==0):\n",
    "                count+=1;\n",
    "                continue\n",
    "            elif( count <= hyper):\n",
    "                if mydct[i] in x:\n",
    "                    x[mydct[i]]=(x[mydct[i]]+1)\n",
    "                else:\n",
    "                    x[mydct[i]] = 1\n",
    "                count+=1\n",
    "            else:\n",
    "                break;\n",
    "        if dev[j][4] in x:\n",
    "            if(x[dev[j][4]]>=((hyper+1)/2)) :\n",
    "                fin+=1\n",
    "        \n",
    "        #print(x)  \n",
    "    return ((fin/len(dataset))*100)    \n",
    "\n"
   ]
  },
  {
   "cell_type": "markdown",
   "metadata": {},
   "source": [
    "function to find accuracy on a given data set using consine similarity distance "
   ]
  },
  {
   "cell_type": "code",
   "execution_count": 29,
   "metadata": {},
   "outputs": [],
   "source": [
    "def cos(k,dataset):\n",
    "\n",
    "    w, h = len(dataset), len(dataset);\n",
    "\n",
    "    srt = [[0 for x in range(w)] for y in range(h)] \n",
    "    hyper =k\n",
    "    fin =0\n",
    "    for j in range (0,len(dataset)):\n",
    "        mydct={}\n",
    "        x={}\n",
    "        for i in range (0,len(dataset)):\n",
    "            mydct[(cosine_similarity(dev[j],dev[i]))] = dev[i][4]\n",
    "        count=0;\n",
    "    #print(dev[j][4])\n",
    "        mydct\n",
    "        for i in sorted (mydct,reverse=True) : \n",
    "            if(count==0):\n",
    "                count+=1;\n",
    "                continue\n",
    "            elif( count <= hyper):\n",
    "                if mydct[i] in x:\n",
    "                    x[mydct[i]]=(x[mydct[i]]+1)\n",
    "                else:\n",
    "                    x[mydct[i]] = 1\n",
    "                count+=1\n",
    "            else:\n",
    "                break;\n",
    "        if dev[j][4] in x:\n",
    "            if(x[dev[j][4]]>=((hyper+1)/2)) :\n",
    "                fin+=1\n",
    "        \n",
    "        #print(x)  \n",
    "    return ((fin/len(dataset))*100) "
   ]
  },
  {
   "cell_type": "markdown",
   "metadata": {},
   "source": [
    "function to find accuracy on a given data set using normalized euclidean distance "
   ]
  },
  {
   "cell_type": "code",
   "execution_count": 30,
   "metadata": {},
   "outputs": [],
   "source": [
    "def norm(k,dataset):\n",
    "\n",
    "    w, h = len(dataset), len(dataset);\n",
    "\n",
    "    srt = [[0 for x in range(w)] for y in range(h)] \n",
    "    hyper =k\n",
    "    fin =0\n",
    "    for j in range (0,len(dataset)):\n",
    "        mydct={}\n",
    "        x={}\n",
    "        for i in range (0,len(dataset)):\n",
    "            mydct[(normeuclidean(dev[j],dev[i]))] = dev[i][4]\n",
    "        count=0;\n",
    "    #print(dev[j][4])\n",
    "        mydct\n",
    "        for i in sorted (mydct) : \n",
    "            if(count==0):\n",
    "                count+=1;\n",
    "                continue\n",
    "            elif( count <= hyper):\n",
    "                if mydct[i] in x:\n",
    "                    x[mydct[i]]=(x[mydct[i]]+1)\n",
    "                else:\n",
    "                    x[mydct[i]] = 1\n",
    "                count+=1\n",
    "            else:\n",
    "                break;\n",
    "        if dev[j][4] in x:\n",
    "            if(x[dev[j][4]]>=((hyper+1)/2)) :\n",
    "                fin+=1\n",
    "        \n",
    "        #print(x)  \n",
    "    return ((fin/len(dataset))*100) "
   ]
  },
  {
   "cell_type": "markdown",
   "metadata": {},
   "source": [
    "finding accuracy for train dataset using all  different hyperparemeters(1,3,5,7) on each distance measure(euclidean,cosine,norm euclidean)"
   ]
  },
  {
   "cell_type": "code",
   "execution_count": 31,
   "metadata": {},
   "outputs": [
    {
     "name": "stdout",
     "output_type": "stream",
     "text": [
      "Train data set size :- 100\n",
      "[95.0, 95.0, 93.0, 94.0] [96.0, 97.0, 97.0, 96.0] [93.0, 97.0, 96.0, 95.0]\n"
     ]
    }
   ],
   "source": [
    "count=0;\n",
    "a=[]\n",
    "b=[]\n",
    "c=[]\n",
    "print(\"Train data set size :- \"+(str)(len(dev)))\n",
    "for i in 1,3,5,7:\n",
    "    a.append(equi(i,dev))\n",
    "    b.append(cos(i,dev))\n",
    "    c.append(norm(i,dev))\n",
    "print(a,b,c)"
   ]
  },
  {
   "cell_type": "markdown",
   "metadata": {},
   "source": [
    "creating bar graph for the accuracys results on train set"
   ]
  },
  {
   "cell_type": "code",
   "execution_count": 33,
   "metadata": {},
   "outputs": [
    {
     "data": {
      "image/png": "[encoded data removed]",
      "text/plain": [
       "<Figure size 432x288 with 1 Axes>"
      ]
     },
     "metadata": {
      "needs_background": "light"
     },
     "output_type": "display_data"
    }
   ],
   "source": [
    "import matplotlib.pyplot as plt\n",
    "\n",
    "# data to plot\n",
    "n_groups = 4\n",
    "# create plot\n",
    "fig, ax = plt.subplots()\n",
    "index = np.arange(n_groups)\n",
    "bar_width = 0.1\n",
    "opacity = 0.6\n",
    "\n",
    "rects1 = plt.bar(index, a, bar_width,\n",
    "alpha=opacity,\n",
    "color='b',\n",
    "label='Euclidean')\n",
    "\n",
    "rects2 = plt.bar(index + bar_width, b, bar_width,\n",
    "alpha=opacity,\n",
    "color='g',\n",
    "label='Cosine Similarity')\n",
    "\n",
    "rects3 = plt.bar(index + bar_width+ bar_width, c, bar_width,\n",
    "alpha=opacity,\n",
    "color='r',\n",
    "label='Normalized Euclidean')\n",
    "\n",
    "plt.xlabel('Hyper parametres')\n",
    "plt.ylabel('Acuracy %')\n",
    "plt.title('')\n",
    "plt.xticks(index + bar_width, ('1', '3', '5', '7'))\n",
    "plt.legend()\n",
    "\n",
    "plt.tight_layout()\n",
    "plt.show()"
   ]
  },
  {
   "cell_type": "markdown",
   "metadata": {},
   "source": [
    "Choosing the hyerparameter and distance measure to predict the accuracy on test dataset."
   ]
  },
  {
   "cell_type": "code",
   "execution_count": 37,
   "metadata": {},
   "outputs": [
    {
     "name": "stdout",
     "output_type": "stream",
     "text": [
      "Test data set size :- 50\n",
      "For the finaly accuracy I choose consine simliarity with hyperparmeter as 5 and acuracy on test data is : 98.0 %\n"
     ]
    }
   ],
   "source": [
    "print(\"Test data set size :- \"+(str)(len(test)))\n",
    "\n",
    "print(\"For the finaly accuracy I choose consine simliarity with hyperparmeter as 5 and acuracy on test data is : \" + (str)(cos(5,test))+\" %\")\n"
   ]
  },
  {
   "cell_type": "markdown",
   "metadata": {},
   "source": [
    "Refrences :\n",
    "https://pythonspot.com/matplotlib-bar-chart/\n",
    "\n",
    "https://stackoverflow.com/questions/38161071/how-to-calculate-normalized-euclidean-distance-on-two-vectors/54170399\n",
    "\n",
    "https://docs.python.org/3/library/statistics.html#statistics.stdev\n",
    "\n",
    "\n",
    "\n"
   ]
  }
 ],
 "metadata": {
  "kernelspec": {
   "display_name": "Python 3",
   "language": "python",
   "name": "python3"
  },
  "language_info": {
   "codemirror_mode": {
    "name": "ipython",
    "version": 3
   },
   "file_extension": ".py",
   "mimetype": "text/x-python",
   "name": "python",
   "nbconvert_exporter": "python",
   "pygments_lexer": "ipython3",
   "version": "3.7.4"
  }
 },
 "nbformat": 4,
 "nbformat_minor": 2
}
